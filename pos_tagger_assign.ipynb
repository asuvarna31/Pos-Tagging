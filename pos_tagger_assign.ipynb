{
 "cells": [
  {
   "cell_type": "code",
   "execution_count": 1,
   "metadata": {},
   "outputs": [],
   "source": [
    "import nltk\n",
    "from nltk.tag import brill, brill_trainer\n",
    "from nltk.tag import UnigramTagger \n",
    "from nltk.corpus.reader import TaggedCorpusReader \n",
    "from nltk.corpus.reader import PlaintextCorpusReader\n",
    "from nltk.corpus import indian"
   ]
  },
  {
   "cell_type": "code",
   "execution_count": 4,
   "metadata": {},
   "outputs": [],
   "source": [
    "tagged_corpus = TaggedCorpusReader(\".\",\"Englishtrain.txt\")"
   ]
  },
  {
   "cell_type": "code",
   "execution_count": 5,
   "metadata": {},
   "outputs": [],
   "source": [
    "tagged_sentences = tagged_corpus.tagged_sents()\n",
    "tagged_words = tagged_corpus.tagged_words()"
   ]
  },
  {
   "cell_type": "code",
   "execution_count": 6,
   "metadata": {},
   "outputs": [
    {
     "name": "stdout",
     "output_type": "stream",
     "text": [
      "[('She', 'PP'), ('shivered', 'VBD,'), ('as', 'CS'), ('much', 'AP'), ('from', 'IN'), ('the', 'DT'), ('warm', 'JJ'), ('current', 'NN'), ('working', 'VBG'), ('its', 'PP$'), ('way', 'NN'), ('through', 'IN'), ('her', 'PP$'), ('body', 'NN'), ('as', 'CS'), ('the', 'AT'), ('cold', 'JJ'), ('ocean', 'NN'), ('breeze', 'NN'), ('.', '.')]\n",
      "('She', 'PP')\n",
      "No. of tagged sentences for training:  17\n",
      "No. of tagged words for training:  438\n"
     ]
    }
   ],
   "source": [
    "print (tagged_sentences[0])\n",
    "print (tagged_words[0])\n",
    "print(\"No. of tagged sentences for training: \" , len(tagged_sentences))\n",
    "print(\"No. of tagged words for training: \" , len(tagged_words))"
   ]
  },
  {
   "cell_type": "code",
   "execution_count": 10,
   "metadata": {},
   "outputs": [
    {
     "data": {
      "text/plain": [
       "13"
      ]
     },
     "execution_count": 10,
     "metadata": {},
     "output_type": "execute_result"
    }
   ],
   "source": [
    "split = int(len(tagged_sentences) * 0.8)\n",
    "train_sents = tagged_sentences[:split]\n",
    "dev_sents = tagged_sentences[split:]\n",
    "len(train_sents)"
   ]
  },
  {
   "cell_type": "code",
   "execution_count": 13,
   "metadata": {},
   "outputs": [],
   "source": [
    "def train_brill_tagger(initial_tagger, train_sents, temp, **kwargs ): \n",
    "    templates = temp\n",
    "      \n",
    "    # USing BrillTaggerTrainer to train  \n",
    "    trainer = brill_trainer.BrillTaggerTrainer( \n",
    "            initial_tagger, templates, deterministic = True) \n",
    "      \n",
    "    return trainer.train(train_sents, **kwargs) "
   ]
  },
  {
   "cell_type": "code",
   "execution_count": 14,
   "metadata": {},
   "outputs": [],
   "source": [
    "initial_tag = UnigramTagger(train_sents)       "
   ]
  },
  {
   "cell_type": "code",
   "execution_count": 15,
   "metadata": {},
   "outputs": [
    {
     "name": "stdout",
     "output_type": "stream",
     "text": [
      "Accuracy of brill_tag :  0.6015625\n"
     ]
    }
   ],
   "source": [
    "brill_tag = train_brill_tagger(initial_tag, train_sents, nltk.tag.brill.brill24()) \n",
    "b = brill_tag.evaluate(dev_sents) \n",
    "print (\"Accuracy of brill_tag : \", b) "
   ]
  },
  {
   "cell_type": "code",
   "execution_count": 16,
   "metadata": {},
   "outputs": [
    {
     "name": "stdout",
     "output_type": "stream",
     "text": [
      "Accuracy of fnt_tag :  0.625\n"
     ]
    }
   ],
   "source": [
    "fnt37_tag = train_brill_tagger(initial_tag, train_sents, nltk.tag.brill.fntbl37()) \n",
    "f = fnt37_tag.evaluate(dev_sents) \n",
    "print (\"Accuracy of fnt_tag : \", f) "
   ]
  },
  {
   "cell_type": "code",
   "execution_count": null,
   "metadata": {},
   "outputs": [],
   "source": []
  },
  {
   "cell_type": "code",
   "execution_count": null,
   "metadata": {},
   "outputs": [],
   "source": []
  },
  {
   "cell_type": "code",
   "execution_count": 24,
   "metadata": {},
   "outputs": [
    {
     "name": "stdout",
     "output_type": "stream",
     "text": [
      "[[('पूर्ण', 'JJ'), ('प्रतिबंध', 'NN'), ('हटाओ', 'VFM'), (':', 'SYM'), ('इराक', 'NNP')], [('संयुक्त', 'NNC'), ('राष्ट्र', 'NN'), ('।', 'SYM')], [('इराक', 'NNP'), ('के', 'PREP'), ('विदेश', 'NNC'), ('मंत्री', 'NN'), ('ने', 'PREP'), ('अमरीका', 'NNP'), ('के', 'PREP'), ('उस', 'PRP'), ('प्रस्ताव', 'NN'), ('का', 'PREP'), ('मजाक', 'NVB'), ('उड़ाया', 'VFM'), ('है', 'VAUX'), (',', 'PUNC'), ('जिसमें', 'PRP'), ('अमरीका', 'NNP'), ('ने', 'PREP'), ('संयुक्त', 'NNC'), ('राष्ट्र', 'NN'), ('के', 'PREP'), ('प्रतिबंधों', 'NN'), ('को', 'PREP'), ('इराकी', 'JJ'), ('नागरिकों', 'NN'), ('के', 'PREP'), ('लिए', 'PREP'), ('कम', 'INTF'), ('हानिकारक', 'JJ'), ('बनाने', 'VNN'), ('के', 'PREP'), ('लिए', 'PREP'), ('कहा', 'VFM'), ('है', 'VAUX'), ('।', 'PUNC')], [('विदेश', 'NNC'), ('मंत्री', 'NN'), ('का', 'PREP'), ('कहना', 'VFM'), ('है', 'VAUX'), ('कि', 'CC'), ('चूंकि', 'CC'), ('बगदाद', 'NNP'), ('संयुक्त', 'NNC'), ('राष्ट्र', 'NN'), ('की', 'PREP'), ('मांगों', 'NN'), ('का', 'PREP'), ('पालन', 'NVB'), ('करते', 'VFM'), ('हुए', 'VAUX'), ('अपने', 'PRP'), ('भारी', 'JJ'), ('विनाशकारी', 'JJ'), ('हथियारों', 'NN'), ('को', 'PREP'), ('नष्ट', 'JVB'), ('कर', 'VFM'), ('रहा', 'VAUX'), ('है', 'VAUX'), ('।', 'PUNC')], [('लिहाजा', 'CC'), ('प्रतिबंधों', 'NN'), ('को', 'PREP'), ('पूर्ण', 'JJ'), ('रूप', 'NN'), ('से', 'PREP'), ('उठा', 'VFM'), ('दिया', 'VAUX'), ('जाना', 'VAUX'), ('चाहिए', 'VAUX'), ('।', 'PUNC')], [('विदेश', 'NNC'), ('मंत्री', 'NN'), ('मोहम्मद', 'NNPC'), ('सईद', 'NNP'), ('का', 'PREP'), ('कहना', 'VFM'), ('है', 'VAUX'), ('कि', 'CC'), ('वे', 'PRP'), ('इसे', 'PRP'), (\"'सुव्यवस्थित\", 'JJ'), (\"प्रतिबंध'\", 'NN'), ('कह', 'VFM'), ('कर', 'VRB'), ('आम', 'JJ'), ('राय', 'NN'), ('और', 'CC'), ('सुरक्षा', 'NNC'), ('परिषद', 'NN'), ('को', 'PREP'), ('छल', 'NVB'), ('रहे', 'VFM'), ('हैं', 'VAUX'), ('।', 'PUNC')], [('बेनजीर', 'NNP'), ('की', 'PREP'), ('सुनवाई', 'NN'), ('स्थगित', 'JJ')], [('कराची', 'NNP'), ('।', 'SYM')], [('पाकिस्तान', 'NNP'), ('की', 'PREP'), ('पूर्व', 'JJ'), ('प्रधानमंत्री', 'NN'), ('बेनजीर', 'NNPC'), ('भुट्टो', 'NNP'), ('पर', 'PREP'), ('लगे', 'VFM'), ('भ्रष्टाचार', 'NN'), ('के', 'PREP'), ('आरोपों', 'NN'), ('के', 'PREP'), ('खिलाफ', 'PREP'), ('भुट्टो', 'NNP'), ('द्वारा', 'PREP'), ('दायर', 'NVB'), ('की', 'VFM'), ('गई', 'VAUX'), ('याचिका', 'NN'), ('की', 'PREP'), ('सुनवाई', 'NN'), ('मंगलवार', 'NN'), ('को', 'PREP'), ('वकीलों', 'NN'), ('की', 'PREP'), ('हड़ताल', 'NN'), ('के', 'PREP'), ('कारण', 'PREP'), ('स्थगित', 'JVB'), ('कर', 'VFM'), ('दी', 'VAUX'), ('गई', 'VAUX'), ('।', 'PUNC')], [('सिंध', 'NNPC'), ('हाईकोर्ट', 'NNPC'), ('बार', 'NNPC'), ('एसोसिएशन', 'NNP'), ('के', 'PREP'), ('अध्यक्ष', 'NN'), ('रशीद', 'NNPC'), ('रिजवी', 'NNP'), ('के', 'PREP'), ('मुताबिक', 'PREP'), ('यह', 'PRP'), ('हड़ताल', 'NN'), ('उच्च', 'NNPC'), ('न्यायालय', 'NNP'), ('और', 'CC'), ('निचली', 'JJ'), ('अदालतों', 'NN'), ('के', 'PREP'), ('स्तर', 'NN'), ('पर', 'PREP'), ('सफल', 'JVB'), ('रही', 'VFM'), ('।', 'PUNC')], [('देश', 'NN'), ('में', 'PREP'), ('पुन', 'JJ'), (':', 'SYM'), ('प्रजातंत्र', 'NN'), ('की', 'PREP'), ('स्थापना', 'NN'), ('की', 'PREP'), ('मांग', 'NN'), ('को', 'PREP'), ('लेकर', 'VRB'), ('यह', 'PRP'), ('हड़ताल', 'NN'), ('की', 'VFM'), ('गई', 'VAUX'), ('थी', 'VAUX'), ('।', 'PUNC')], [('सुप्रीम', 'NNPC'), ('कोर्ट', 'NNP'), ('में', 'PREP'), ('भुट्टो', 'NNP'), ('के', 'PREP'), ('उक्त', 'JJ'), ('मामले', 'NN'), ('की', 'PREP'), ('सुनवाई', 'NN'), ('सोमवार', 'NN'), ('से', 'PREP'), ('शुरू', 'NVB'), ('हुई', 'VFM'), (',', 'PUNC'), ('जो', 'PRP'), ('फिलहाल', 'RB'), ('बुधवार', 'NN'), ('तक', 'PREP'), ('स्थगित', 'JVB'), ('है', 'VFM'), ('।', 'PUNC')], [('मुशर्रफ', 'NNP'), ('सऊदी', 'NNPC'), ('अरब', 'NNP'), ('को', 'PREP'), ('मनाएंगे', 'VFM')], [('इस्लामाबाद', 'NNP'), ('।', 'SYM')], [('पाकिस्तानी', 'NNC'), ('सैन्य', 'NNC'), ('प्रशासक', 'NN'), ('जनरल', 'NNC'), ('परवेज', 'NNPC'), ('मुशर्रफ', 'NNP'), ('द्वारा', 'PREP'), ('सऊदी', 'NNPC'), ('अरब', 'NNP'), ('को', 'PREP'), ('कश्मीर', 'NNPC'), ('विवाद', 'NNC'), ('मुद्दे', 'NN'), ('पर', 'PREP'), ('भारत', 'NNP'), ('और', 'CC'), ('पाकिस्तान', 'NNP'), ('की', 'PREP'), ('मध्यस्थता', 'NN'), ('के', 'PREP'), ('लिए', 'PREP'), ('मनाने', 'VNN'), ('की', 'PREP'), ('संभावना', 'NN'), ('व्यक्त', 'JVB'), ('की', 'VFM'), ('गई', 'VAUX'), ('है', 'VAUX'), ('।', 'PUNC')], [('आधिकारिक', 'NNC'), ('सूत्रों', 'NN'), ('के', 'PREP'), ('हवाले', 'NN'), ('से', 'PREP'), ('कहा', 'VFM'), ('गया', 'VAUX'), ('है', 'VAUX'), ('कि', 'CC'), ('मुशर्रफ', 'NNP'), ('की', 'PREP'), ('बुधवार', 'NN'), ('से', 'PREP'), ('शुरू', 'NVB'), ('हो', 'VFM'), ('रही', 'VAUX'), ('हज', 'NNC'), ('यात्रा', 'NN'), ('इस', 'PRP'), ('मायने', 'NN'), ('में', 'PREP'), ('काफी', 'INTF'), ('महत्वपूर्ण', 'JJ'), ('हो', 'VFM'), ('सकती', 'VAUX'), ('है', 'VAUX'), ('।', 'PUNC')], [('मुशर्रफ', 'NNP'), ('अपने', 'PRP'), ('इस', 'PRP'), ('हज', 'NNC'), ('यात्रा', 'NN'), ('के', 'PREP'), ('दौरान', 'PREP'), ('कश्मीर', 'NNP'), ('के', 'PREP'), ('अलावा', 'PREP'), ('फिलीस्तिन', 'NNP'), (',', 'PUNC'), ('अमरीका', 'NNP'), ('द्वारा', 'PREP'), ('ओसमा', 'NNPC'), ('बिन', 'NNPC'), ('लादेन', 'NNP'), ('के', 'PREP'), ('प्रत्यर्पण', 'NN'), ('की', 'PREP'), ('मांग', 'NN'), ('आदि', 'RP'), ('पर', 'PREP'), ('चर्चा', 'NVB'), ('करेंगे', 'VFM'), ('।', 'PUNC')], [('इस', 'PRP'), ('दौरान', 'PREP'), ('मुशर्रफ', 'NNP'), ('सऊदी', 'NNC'), ('राजा', 'NN'), ('फाहद', 'NNP'), (',', 'PUNC'), ('उप', 'NNC'), ('प्रधानमंत्री', 'NN'), ('सहित', 'PREP'), ('कई', 'QF'), ('बड़ी', 'JJ'), ('हस्तियों', 'NN'), ('से', 'PREP'), ('मिलेंगे', 'VFM'), ('।', 'PUNC')], [('पाकिस्तान', 'NNP'), ('के', 'PREP'), ('बर्खास्त', 'JJ'), ('पूर्व', 'NNC'), ('प्रधानमंत्री', 'NN'), ('नवाज', 'NNPC'), ('शरीफ', 'NNP'), ('के', 'PREP'), ('मामले', 'NN'), ('में', 'PREP'), ('भी', 'RP'), ('यहां', 'NLOC'), ('चर्चा', 'NVB'), ('होगी', 'VFM'), ('।', 'PUNC')], [('पत्रकारों', 'NN'), ('के', 'PREP'), ('लिए', 'PREP'), ('कल्याण', 'NNC'), ('कोष', 'NN')]]\n"
     ]
    }
   ],
   "source": [
    "data = indian.tagged_sents(\"hindi.pos\")[:20]\n"
   ]
  },
  {
   "cell_type": "code",
   "execution_count": 18,
   "metadata": {},
   "outputs": [
    {
     "data": {
      "text/plain": [
       "15"
      ]
     },
     "execution_count": 18,
     "metadata": {},
     "output_type": "execute_result"
    }
   ],
   "source": [
    "dev_data = data[:5]\n",
    "train_data = data[5:]\n",
    "len(train_data)"
   ]
  },
  {
   "cell_type": "code",
   "execution_count": 20,
   "metadata": {},
   "outputs": [],
   "source": [
    "initial_hin = UnigramTagger(train_data)"
   ]
  },
  {
   "cell_type": "code",
   "execution_count": 22,
   "metadata": {},
   "outputs": [
    {
     "name": "stdout",
     "output_type": "stream",
     "text": [
      "Accuracy of brill_tag :  0.43037974683544306\n"
     ]
    }
   ],
   "source": [
    "bhin_tag = train_brill_tagger(initial_hin, train_data, nltk.tag.brill.brill24())\n",
    "\n",
    "bhin = bhin_tag.evaluate(dev_data) \n",
    "  \n",
    "print (\"Accuracy of brill_tag : \", bhin) \n"
   ]
  },
  {
   "cell_type": "code",
   "execution_count": 23,
   "metadata": {},
   "outputs": [
    {
     "name": "stdout",
     "output_type": "stream",
     "text": [
      "Accuracy of fnt_tag :  0.43037974683544306\n"
     ]
    }
   ],
   "source": [
    "fnt37_hin = train_brill_tagger(initial_hin, train_data, nltk.tag.brill.fntbl37())\n",
    "\n",
    "fhin = fnt37_hin.evaluate(dev_data) \n",
    "  \n",
    "print (\"Accuracy of fnt_tag : \", fhin) "
   ]
  },
  {
   "cell_type": "code",
   "execution_count": null,
   "metadata": {},
   "outputs": [],
   "source": []
  },
  {
   "cell_type": "code",
   "execution_count": null,
   "metadata": {},
   "outputs": [],
   "source": []
  }
 ],
 "metadata": {
  "kernelspec": {
   "display_name": "Python 3",
   "language": "python",
   "name": "python3"
  },
  "language_info": {
   "codemirror_mode": {
    "name": "ipython",
    "version": 3
   },
   "file_extension": ".py",
   "mimetype": "text/x-python",
   "name": "python",
   "nbconvert_exporter": "python",
   "pygments_lexer": "ipython3",
   "version": "3.7.3"
  }
 },
 "nbformat": 4,
 "nbformat_minor": 2
}
